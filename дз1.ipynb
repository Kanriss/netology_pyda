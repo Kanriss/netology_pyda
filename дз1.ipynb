{
 "cells": [
  {
   "cell_type": "markdown",
   "metadata": {},
   "source": [
    "### Задание 1"
   ]
  },
  {
   "cell_type": "code",
   "execution_count": 3,
   "metadata": {
    "scrolled": true
   },
   "outputs": [
    {
     "name": "stdout",
     "output_type": "stream",
     "text": [
      "True\n"
     ]
    }
   ],
   "source": [
    "long_phrase = 'Насколько проще было бы писать программы, если бы не заказчики'\n",
    "short_phrase = '640Кб должно хватить для любых задач. Билл Гейтс (по легенде)'\n",
    "check=len(long_phrase)>len(short_phrase)\n",
    "print(check)"
   ]
  },
  {
   "cell_type": "markdown",
   "metadata": {},
   "source": [
    "### Задание 2"
   ]
  },
  {
   "cell_type": "code",
   "execution_count": 10,
   "metadata": {},
   "outputs": [
    {
     "name": "stdout",
     "output_type": "stream",
     "text": [
      "Введите размер в байтах35786345\n",
      "Объем файла равен 35.79 Mb\n"
     ]
    }
   ],
   "source": [
    "file = int(input('Введите размер в байтах'))\n",
    "print('Объем файла равен',round(file/1000000,2),'Mb')"
   ]
  },
  {
   "cell_type": "markdown",
   "metadata": {},
   "source": [
    "### Задание 3"
   ]
  },
  {
   "cell_type": "code",
   "execution_count": 18,
   "metadata": {},
   "outputs": [
    {
     "name": "stdout",
     "output_type": "stream",
     "text": [
      "введите месяц: июль\n",
      "введите дату: 29\n",
      "Лев\n"
     ]
    }
   ],
   "source": [
    "month = input('введите месяц: ')\n",
    "day = int(input('введите дату: '))\n",
    "if(month in ['январь','март','май','июль','август','октябрь','декабрь'] and day>31):\n",
    "    print('попробуйте еще раз')\n",
    "if(month in ['апрель','июнь','сентябрь','ноябрь'] and day>30):\n",
    "    print('попробуйте еще раз')\n",
    "if(month == 'февраль' and day >29):\n",
    "     print('попробуйте еще раз')\n",
    "if(month=='январь'):\n",
    "    if(day <21):\n",
    "        print('Козерог')\n",
    "    else:\n",
    "        print('Водолей')\n",
    "if(month=='февраль'):\n",
    "    if(day <21):\n",
    "        print('Водолей')\n",
    "    else:\n",
    "        print('Рыбы')\n",
    "if(month=='март'):\n",
    "    if(day <21):\n",
    "        print('Рыбы')\n",
    "    else:\n",
    "        print('Овен')\n",
    "if(month=='апрель'):\n",
    "    if(day <21):\n",
    "        print('Овен')\n",
    "    else:\n",
    "        print('Телец')\n",
    "if(month=='май'):\n",
    "    if(day <21):\n",
    "        print('Телец')\n",
    "    else:\n",
    "        print('Близнецы')\n",
    "if(month=='июнь'):\n",
    "    if(day <22):\n",
    "        print('Близнецы')\n",
    "    else:\n",
    "        print('Рак')\n",
    "if(month=='июль'):\n",
    "    if(day <23):\n",
    "        print('Рак')\n",
    "    else:\n",
    "        print('Лев')\n",
    "if(month=='август'):\n",
    "    if(day <24):\n",
    "        print('Лев')\n",
    "    else:\n",
    "        print('Дева')\n",
    "if(month=='сентябрь'):\n",
    "    if(day <24):\n",
    "        print('Дева')\n",
    "    else:\n",
    "        print('Весы')\n",
    "if(month=='октябрь'):\n",
    "    if(day <24):\n",
    "        print('Весы')\n",
    "    else:\n",
    "        print('Скорпион')\n",
    "if(month=='ноябрь'):\n",
    "    if(day <23):\n",
    "        print('Скорпион')\n",
    "    else:\n",
    "        print('Стрелец')\n",
    "if(month=='декабрь'):\n",
    "    if(day <22):\n",
    "        print('Стрелец')\n",
    "    else:\n",
    "        print('Козерог')\n"
   ]
  },
  {
   "cell_type": "markdown",
   "metadata": {},
   "source": [
    "### Задание 4"
   ]
  },
  {
   "cell_type": "code",
   "execution_count": 19,
   "metadata": {},
   "outputs": [
    {
     "name": "stdout",
     "output_type": "stream",
     "text": [
      "Введите заработную плату: 100000\n",
      "Введите сколько процентов уходит на ипотеку: 30\n",
      "Введите сколько процентов уходит на жизнь:50\n",
      "Количество премий за год: 2\n",
      "На ипотеку было потрачено: 360000.0\n",
      "Было накоплено: 340000.0\n"
     ]
    }
   ],
   "source": [
    "salary=int(input('Введите заработную плату: '))\n",
    "ipot=int(input('Введите сколько процентов уходит на ипотеку: '))\n",
    "life=int(input('Введите сколько процентов уходит на жизнь:'))\n",
    "prem=int(input('Количество премий за год: '))\n",
    "nakopl=salary*12-((salary*ipot/100)+(salary*life/100))*12 +prem*salary*0.5\n",
    "print('На ипотеку было потрачено:',(salary*ipot/100*12))\n",
    "print('Было накоплено:',nakopl)"
   ]
  }
 ],
 "metadata": {
  "kernelspec": {
   "display_name": "Python 3",
   "language": "python",
   "name": "python3"
  },
  "language_info": {
   "codemirror_mode": {
    "name": "ipython",
    "version": 3
   },
   "file_extension": ".py",
   "mimetype": "text/x-python",
   "name": "python",
   "nbconvert_exporter": "python",
   "pygments_lexer": "ipython3",
   "version": "3.7.3"
  }
 },
 "nbformat": 4,
 "nbformat_minor": 2
}
