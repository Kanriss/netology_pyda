{
 "cells": [
  {
   "cell_type": "markdown",
   "metadata": {},
   "source": [
    "### Задание 1"
   ]
  },
  {
   "cell_type": "code",
   "execution_count": 4,
   "metadata": {},
   "outputs": [],
   "source": [
    "geo_logs = [\n",
    "{'visit1': ['Москва', 'Россия']},\n",
    "{'visit2': ['Дели', 'Индия']},\n",
    "{'visit3': ['Владимир', 'Россия']},\n",
    "{'visit4': ['Лиссабон', 'Португалия']},\n",
    "{'visit5': ['Париж', 'Франция']},\n",
    "{'visit6': ['Лиссабон', 'Португалия']},\n",
    "{'visit7': ['Тула', 'Россия']},\n",
    "{'visit8': ['Тула', 'Россия']},\n",
    "{'visit9': ['Курск', 'Россия']},\n",
    "{'visit10': ['Архангельск','Россия']},\n",
    "]\n"
   ]
  },
  {
   "cell_type": "code",
   "execution_count": 45,
   "metadata": {},
   "outputs": [
    {
     "name": "stdout",
     "output_type": "stream",
     "text": [
      "[{'visit1': ['Москва', 'Россия']}, {'visit3': ['Владимир', 'Россия']}, {'visit7': ['Тула', 'Россия']}, {'visit8': ['Тула', 'Россия']}, {'visit9': ['Курск', 'Россия']}, {'visit10': ['Архангельск', 'Россия']}]\n"
     ]
    }
   ],
   "source": [
    "geo_logs_2 = geo_logs.copy()\n",
    "for visits in geo_logs_2:\n",
    "    for place in visits.values():\n",
    "        if 'Россия' in place:\n",
    "            pass\n",
    "        else:\n",
    "            geo_logs.remove(visits)\n",
    "print (geo_logs)"
   ]
  },
  {
   "cell_type": "markdown",
   "metadata": {},
   "source": [
    "### Задание 2"
   ]
  },
  {
   "cell_type": "code",
   "execution_count": 65,
   "metadata": {},
   "outputs": [],
   "source": [
    "ids = {'user1': [213, 213, 213, 15, 213], 'user2': [54, 54, 119, 119, 119], 'user3': [213, 98, 98, 35]}"
   ]
  },
  {
   "cell_type": "code",
   "execution_count": 117,
   "metadata": {},
   "outputs": [
    {
     "name": "stdout",
     "output_type": "stream",
     "text": [
      "{98, 35, 15, 213, 54, 119}\n"
     ]
    }
   ],
   "source": [
    "a = []\n",
    "for i in ids.values():\n",
    "    for c in i:\n",
    "        a.append(c)   \n",
    "print(set(a))"
   ]
  },
  {
   "cell_type": "markdown",
   "metadata": {},
   "source": [
    "### Задание 3"
   ]
  },
  {
   "cell_type": "code",
   "execution_count": 75,
   "metadata": {},
   "outputs": [],
   "source": [
    "queries = [\n",
    "'смотреть сериалы онлайн',\n",
    "'новости спорта',\n",
    "'афиша кино',\n",
    "'курс доллара',\n",
    "'сериалы этим летом',\n",
    "'курс по питону',\n",
    "'сериалы про спорт',\n",
    "]"
   ]
  },
  {
   "cell_type": "code",
   "execution_count": 114,
   "metadata": {},
   "outputs": [
    {
     "name": "stdout",
     "output_type": "stream",
     "text": [
      "Поисковых запросов из 2 слов(а) 43 %\n",
      "Поисковых запросов из 3 слов(а) 57 %\n"
     ]
    }
   ],
   "source": [
    "a = []\n",
    "for i in queries:\n",
    "    a.append(len(i.split(' ')))\n",
    "b = set(a)\n",
    "for num in b:\n",
    "    print('Поисковых запросов из', num, 'слов(а)', round(a.count(num) / len(a) * 100), '%')\n",
    "   "
   ]
  },
  {
   "cell_type": "markdown",
   "metadata": {},
   "source": [
    "### Задание 4"
   ]
  },
  {
   "cell_type": "code",
   "execution_count": 140,
   "metadata": {},
   "outputs": [],
   "source": [
    "stats = {'facebook': 55, 'yandex': 120, 'vk': 115, 'google': 99, 'email': 42, 'ok': 98}"
   ]
  },
  {
   "cell_type": "code",
   "execution_count": 141,
   "metadata": {},
   "outputs": [
    {
     "name": "stdout",
     "output_type": "stream",
     "text": [
      "yandex\n"
     ]
    }
   ],
   "source": [
    "for i in stats:\n",
    "    if max(stats.values()) == (stats[i]):\n",
    "        print(i)"
   ]
  },
  {
   "cell_type": "markdown",
   "metadata": {},
   "source": [
    "### Задание 5"
   ]
  },
  {
   "cell_type": "code",
   "execution_count": 142,
   "metadata": {},
   "outputs": [],
   "source": [
    "stream = [\n",
    "'2018-01-01,user1,3',\n",
    "'2018-01-07,user1,4',\n",
    "'2018-03-29,user1,1',\n",
    "'2018-04-04,user1,13',\n",
    "'2018-01-05,user2,7',\n",
    "'2018-06-14,user3,4',\n",
    "'2018-07-02,user3,10',\n",
    "'2018-03-21,user4,19',\n",
    "'2018-03-22,user4,4',\n",
    "'2018-04-22,user4,8',\n",
    "'2018-05-03,user4,9',\n",
    "'2018-05-11,user4,11',\n",
    "]"
   ]
  },
  {
   "cell_type": "code",
   "execution_count": 157,
   "metadata": {},
   "outputs": [
    {
     "name": "stdout",
     "output_type": "stream",
     "text": [
      "23.25\n"
     ]
    }
   ],
   "source": [
    "a = set()\n",
    "sum=0\n",
    "for i in stream:\n",
    "    b = i.split(',')\n",
    "    a.add(b[1])\n",
    "    sum = sum + int(b[2])\n",
    "print(sum / len(set(a)))"
   ]
  },
  {
   "cell_type": "markdown",
   "metadata": {},
   "source": [
    "### Задание 6"
   ]
  },
  {
   "cell_type": "code",
   "execution_count": 158,
   "metadata": {},
   "outputs": [],
   "source": [
    "stats = [\n",
    "['2018-01-01', 'google', 25],\n",
    "['2018-01-01', 'yandex', 65],\n",
    "['2018-01-01', 'market', 89],\n",
    "['2018-01-02', 'google', 574],\n",
    "['2018-01-02', 'yandex', 249],\n",
    "['2018-01-02', 'market', 994],\n",
    "['2018-01-03', 'google', 1843],\n",
    "['2018-01-03', 'yandex', 1327],\n",
    "['2018-01-03', 'market', 1764],\n",
    "]"
   ]
  },
  {
   "cell_type": "code",
   "execution_count": 192,
   "metadata": {},
   "outputs": [
    {
     "name": "stdout",
     "output_type": "stream",
     "text": [
      "введите дату 2018-01-03\n",
      "введите название google\n",
      "1843\n"
     ]
    }
   ],
   "source": [
    "\n",
    "date = input('введите дату ')\n",
    "company = input('введите название ')\n",
    "\n",
    "for i in stats:\n",
    "    if date == i[0] and company == i[1]:\n",
    "        print(i[2])\n",
    "    else:\n",
    "        pass\n"
   ]
  },
  {
   "cell_type": "code",
   "execution_count": null,
   "metadata": {},
   "outputs": [],
   "source": []
  }
 ],
 "metadata": {
  "kernelspec": {
   "display_name": "Python 3",
   "language": "python",
   "name": "python3"
  },
  "language_info": {
   "codemirror_mode": {
    "name": "ipython",
    "version": 3
   },
   "file_extension": ".py",
   "mimetype": "text/x-python",
   "name": "python",
   "nbconvert_exporter": "python",
   "pygments_lexer": "ipython3",
   "version": "3.7.3"
  }
 },
 "nbformat": 4,
 "nbformat_minor": 2
}
