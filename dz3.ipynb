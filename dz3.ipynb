{
 "cells": [
  {
   "cell_type": "markdown",
   "metadata": {},
   "source": [
    "### Задание 1"
   ]
  },
  {
   "cell_type": "code",
   "execution_count": 12,
   "metadata": {},
   "outputs": [],
   "source": [
    "data = [\n",
    "[13, 25, 23, 34],\n",
    "[45, 32, 44, 47],\n",
    "[12, 33, 23, 95],\n",
    "[13, 53, 34, 35]\n",
    "]"
   ]
  },
  {
   "cell_type": "code",
   "execution_count": 18,
   "metadata": {},
   "outputs": [],
   "source": [
    "def arr_sum(arr):\n",
    "    sum = 0\n",
    "    ind = 0\n",
    "    for i in data:\n",
    "        sum += data[ind][ind]\n",
    "        ind += 1\n",
    "    return sum"
   ]
  },
  {
   "cell_type": "code",
   "execution_count": 19,
   "metadata": {},
   "outputs": [
    {
     "data": {
      "text/plain": [
       "103"
      ]
     },
     "execution_count": 19,
     "metadata": {},
     "output_type": "execute_result"
    }
   ],
   "source": [
    "arr_sum(data)"
   ]
  },
  {
   "cell_type": "markdown",
   "metadata": {},
   "source": [
    "### Задание 2"
   ]
  },
  {
   "cell_type": "code",
   "execution_count": 20,
   "metadata": {},
   "outputs": [],
   "source": [
    "data = [1, '5', 'abc', 20, '2']"
   ]
  },
  {
   "cell_type": "code",
   "execution_count": 34,
   "metadata": {},
   "outputs": [],
   "source": [
    "def sqr_arr (arr):\n",
    "    sum = 0\n",
    "    for i in arr:\n",
    "        try:\n",
    "            sum += (int(i)**2)\n",
    "        except:\n",
    "            pass\n",
    "    return sum"
   ]
  },
  {
   "cell_type": "code",
   "execution_count": 35,
   "metadata": {},
   "outputs": [
    {
     "data": {
      "text/plain": [
       "430"
      ]
     },
     "execution_count": 35,
     "metadata": {},
     "output_type": "execute_result"
    }
   ],
   "source": [
    "sqr_arr(data)"
   ]
  },
  {
   "cell_type": "markdown",
   "metadata": {},
   "source": [
    "### Задание 3"
   ]
  },
  {
   "cell_type": "code",
   "execution_count": 1,
   "metadata": {},
   "outputs": [],
   "source": [
    "def fib_sum(n):\n",
    "    a = 0\n",
    "    b = 1\n",
    "    sum = a + b\n",
    "    if (n == 0 or n ==1):\n",
    "        return 0\n",
    "    elif ( n == 2):\n",
    "        return 1\n",
    "    else :\n",
    "        for i in range(n - 2):\n",
    "            c = a + b\n",
    "            a = b\n",
    "            b = c\n",
    "            sum += c\n",
    "    return sum"
   ]
  },
  {
   "cell_type": "code",
   "execution_count": 5,
   "metadata": {},
   "outputs": [
    {
     "data": {
      "text/plain": [
       "2"
      ]
     },
     "execution_count": 5,
     "metadata": {},
     "output_type": "execute_result"
    }
   ],
   "source": [
    "fib_sum(3)"
   ]
  },
  {
   "cell_type": "markdown",
   "metadata": {},
   "source": [
    "### Задание 4"
   ]
  },
  {
   "cell_type": "code",
   "execution_count": 45,
   "metadata": {},
   "outputs": [],
   "source": [
    "students_list = [\n",
    "{'name': 'Василий', 'surname': 'Теркин', 'sex': 'м', 'program_exp': True, 'grade': [8, 8, 9, 10, 9], 'exam': 9},\n",
    "{'name': 'Мария', 'surname': 'Павлова', 'sex': 'ж', 'program_exp': True, 'grade': [7, 8, 9, 7, 9], 'exam': 8},\n",
    "{'name': 'Ирина', 'surname': 'Андреева', 'sex': 'ж', 'program_exp': True, 'grade': [10, 9, 8, 10, 10], 'exam': 10},\n",
    "{'name': 'Татьяна', 'surname': 'Сидорова', 'sex': 'ж', 'program_exp': True, 'grade': [7, 8, 8, 9, 8], 'exam': 8},\n",
    "{'name': 'Иван', 'surname': 'Васильев', 'sex': 'ж', 'program_exp': True, 'grade': [9, 8, 9, 6, 9], 'exam': 10},\n",
    "{'name': 'Роман', 'surname': 'Золотарев', 'sex': 'ж', 'program_exp': False, 'grade': [8, 9, 9, 6, 9], 'exam': 10}\n",
    "]"
   ]
  },
  {
   "cell_type": "code",
   "execution_count": 58,
   "metadata": {},
   "outputs": [],
   "source": [
    "def comand_one(stud):\n",
    "    a = len(students_list)\n",
    "    sum_dz = 0\n",
    "    count = 0\n",
    "    sum_ex = 0\n",
    "    for i in students_list:\n",
    "        for j in i['grade']:\n",
    "            sum_dz += j\n",
    "            count += 1\n",
    "        sum_ex += i['exam']\n",
    "    print('Средняя оценка за все ДЗ', round(sum_dz / count, 2))\n",
    "    print('Средняя оценка за экзамен', round(sum_ex / a, 2))\n",
    "    "
   ]
  },
  {
   "cell_type": "code",
   "execution_count": 59,
   "metadata": {},
   "outputs": [
    {
     "name": "stdout",
     "output_type": "stream",
     "text": [
      "Средняя оценка за все ДЗ 8.43\n",
      "Средняя оценка за экзамен 9.17\n"
     ]
    }
   ],
   "source": [
    "comand_one(students_list)"
   ]
  },
  {
   "cell_type": "code",
   "execution_count": 65,
   "metadata": {},
   "outputs": [],
   "source": [
    "def comand_two(stud):\n",
    "    sum_dz_m = 0\n",
    "    count_m = 0\n",
    "    sum_ex_m = 0\n",
    "    count_ex_m = 0\n",
    "    sum_dz_w = 0\n",
    "    count_w = 0\n",
    "    sum_ex_w = 0\n",
    "    count_ex_w = 0\n",
    "    for i in students_list:\n",
    "        if (i['sex'] == 'м'):\n",
    "            for j in i['grade']:\n",
    "                sum_dz_m += j\n",
    "                count_m += 1\n",
    "            sum_ex_m += i['exam']\n",
    "            count_ex_m += 1\n",
    "        else:\n",
    "            for j in i['grade']:\n",
    "                sum_dz_w += j\n",
    "                count_w += 1\n",
    "            sum_ex_w += i['exam']\n",
    "            count_ex_w += 1\n",
    "    print('Для студентов мужского пола средняя оценка за все ДЗ', round(sum_dz_m / count_m, 2),\n",
    "          ', cредняя оценка за экзамен', round(sum_ex_m / count_ex_m, 2))\n",
    "    print('Для студентов женского пола средняя оценка за все ДЗ', round(sum_dz_w / count_w, 2),\n",
    "         ', cредняя оценка за экзамен', round(sum_ex_w / count_ex_w, 2))\n",
    "\n",
    "    "
   ]
  },
  {
   "cell_type": "code",
   "execution_count": 68,
   "metadata": {},
   "outputs": [
    {
     "name": "stdout",
     "output_type": "stream",
     "text": [
      "Для студентов мужского пола средняя оценка за все ДЗ 8.8 , cредняя оценка за экзамен 9.0\n",
      "Для студентов женского пола средняя оценка за все ДЗ 8.36 , cредняя оценка за экзамен 9.2\n"
     ]
    }
   ],
   "source": [
    "comand_two(students_list)"
   ]
  },
  {
   "cell_type": "code",
   "execution_count": 70,
   "metadata": {},
   "outputs": [],
   "source": [
    "def comand_three(stud):\n",
    "    sum_dz_tr = 0\n",
    "    count_tr = 0\n",
    "    sum_ex_tr = 0\n",
    "    count_ex_tr = 0\n",
    "    sum_dz_f = 0\n",
    "    count_f = 0\n",
    "    sum_ex_f = 0\n",
    "    count_ex_f = 0\n",
    "    for i in students_list:\n",
    "        if (i['program_exp'] == True):\n",
    "            for j in i['grade']:\n",
    "                sum_dz_tr += j\n",
    "                count_tr += 1\n",
    "            sum_ex_tr += i['exam']\n",
    "            count_ex_tr += 1\n",
    "        else:\n",
    "            for j in i['grade']:\n",
    "                sum_dz_f += j\n",
    "                count_f += 1\n",
    "            sum_ex_f += i['exam']\n",
    "            count_ex_f += 1\n",
    "    print('Для студентов с пытом программирования средняя оценка за все ДЗ', round(sum_dz_tr / count_tr, 2),\n",
    "          ', cредняя оценка за экзамен',round(sum_ex_tr / count_ex_tr, 2))\n",
    "    print('Для студентов без опыта средняя оценка за все ДЗ', round(sum_dz_f / count_f, 2),\n",
    "         ', cредняя оценка за экзамен', round(sum_ex_f / count_ex_f, 2))\n",
    "\n",
    "    "
   ]
  },
  {
   "cell_type": "code",
   "execution_count": 71,
   "metadata": {},
   "outputs": [
    {
     "name": "stdout",
     "output_type": "stream",
     "text": [
      "Для студентов с пытом программирования средняя оценка за все ДЗ 8.48 , cредняя оценка за экзамен 9.0\n",
      "Для студентов без опыта средняя оценка за все ДЗ 8.2 , cредняя оценка за экзамен 10.0\n"
     ]
    }
   ],
   "source": [
    "comand_three(students_list)"
   ]
  },
  {
   "cell_type": "code",
   "execution_count": 76,
   "metadata": {},
   "outputs": [],
   "source": [
    "def top_com ():\n",
    "    com = int(input('Введите номер команды :'))\n",
    "    if (com == 1):\n",
    "        comand_one(students_list)\n",
    "    elif (com == 2):\n",
    "        comand_two(students_list)\n",
    "    elif (com == 3):\n",
    "        comand_three(students_list)"
   ]
  },
  {
   "cell_type": "code",
   "execution_count": 77,
   "metadata": {},
   "outputs": [
    {
     "name": "stdout",
     "output_type": "stream",
     "text": [
      "Введите номер команды :3\n",
      "Для студентов с пытом программирования средняя оценка за все ДЗ 8.48 , cредняя оценка за экзамен 9.0\n",
      "Для студентов без опыта средняя оценка за все ДЗ 8.2 , cредняя оценка за экзамен 10.0\n"
     ]
    }
   ],
   "source": [
    "top_com()"
   ]
  }
 ],
 "metadata": {
  "kernelspec": {
   "display_name": "Python 3",
   "language": "python",
   "name": "python3"
  },
  "language_info": {
   "codemirror_mode": {
    "name": "ipython",
    "version": 3
   },
   "file_extension": ".py",
   "mimetype": "text/x-python",
   "name": "python",
   "nbconvert_exporter": "python",
   "pygments_lexer": "ipython3",
   "version": "3.7.3"
  }
 },
 "nbformat": 4,
 "nbformat_minor": 2
}
