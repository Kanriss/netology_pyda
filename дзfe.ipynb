{
 "cells": [
  {
   "cell_type": "code",
   "execution_count": 2,
   "metadata": {},
   "outputs": [],
   "source": [
    "import numpy as np\n",
    "import pandas as pd\n",
    "from sklearn.metrics import mean_absolute_error\n",
    "from sklearn.linear_model import LinearRegression"
   ]
  },
  {
   "cell_type": "markdown",
   "metadata": {},
   "source": [
    "# Создаем искуственный датасет"
   ]
  },
  {
   "cell_type": "code",
   "execution_count": 15,
   "metadata": {},
   "outputs": [],
   "source": [
    "samples = 1000 # количество записей\n",
    "\n",
    "dev_cost = np.random.choice(100000,samples)+100000 # затраты на разработку по\n",
    "pr_cost = np.random.choice(50000,samples)+25000 # затраты на PR\n",
    "administrative_cost = np.random.choice(30000,samples)+10000 # затраты административные\n",
    "other_cost = np.random.choice(30000,samples) # затраты на коммандировки\n",
    "med_temp = np.random.choice(60,samples)-30 # средня температура в месяце\n",
    "med_age = np.random.choice(72,samples)+18 #среднпий возраст покупателя\n",
    "\n",
    "price = (dev_cost+pr_cost+administrative_cost)/0.75 #целевая метка- цена на ПО\n",
    "\n",
    "data = pd.DataFrame({'dev_cost': dev_cost, 'pr_cost': pr_cost,'administrative_cost':administrative_cost, 'other_cost':other_cost, 'med_temp': med_temp, 'med_age': med_age, 'price':price})"
   ]
  },
  {
   "cell_type": "code",
   "execution_count": 16,
   "metadata": {},
   "outputs": [
    {
     "data": {
      "text/html": [
       "<div>\n",
       "<style scoped>\n",
       "    .dataframe tbody tr th:only-of-type {\n",
       "        vertical-align: middle;\n",
       "    }\n",
       "\n",
       "    .dataframe tbody tr th {\n",
       "        vertical-align: top;\n",
       "    }\n",
       "\n",
       "    .dataframe thead th {\n",
       "        text-align: right;\n",
       "    }\n",
       "</style>\n",
       "<table border=\"1\" class=\"dataframe\">\n",
       "  <thead>\n",
       "    <tr style=\"text-align: right;\">\n",
       "      <th></th>\n",
       "      <th>dev_cost</th>\n",
       "      <th>pr_cost</th>\n",
       "      <th>administrative_cost</th>\n",
       "      <th>other_cost</th>\n",
       "      <th>med_temp</th>\n",
       "      <th>med_age</th>\n",
       "      <th>price</th>\n",
       "    </tr>\n",
       "  </thead>\n",
       "  <tbody>\n",
       "    <tr>\n",
       "      <th>0</th>\n",
       "      <td>158741</td>\n",
       "      <td>39227</td>\n",
       "      <td>34747</td>\n",
       "      <td>19922</td>\n",
       "      <td>11</td>\n",
       "      <td>66</td>\n",
       "      <td>310286.666667</td>\n",
       "    </tr>\n",
       "    <tr>\n",
       "      <th>1</th>\n",
       "      <td>159529</td>\n",
       "      <td>74643</td>\n",
       "      <td>30335</td>\n",
       "      <td>29181</td>\n",
       "      <td>-25</td>\n",
       "      <td>18</td>\n",
       "      <td>352676.000000</td>\n",
       "    </tr>\n",
       "    <tr>\n",
       "      <th>2</th>\n",
       "      <td>191911</td>\n",
       "      <td>26127</td>\n",
       "      <td>12181</td>\n",
       "      <td>28916</td>\n",
       "      <td>4</td>\n",
       "      <td>37</td>\n",
       "      <td>306958.666667</td>\n",
       "    </tr>\n",
       "    <tr>\n",
       "      <th>3</th>\n",
       "      <td>176195</td>\n",
       "      <td>27096</td>\n",
       "      <td>25572</td>\n",
       "      <td>22089</td>\n",
       "      <td>14</td>\n",
       "      <td>58</td>\n",
       "      <td>305150.666667</td>\n",
       "    </tr>\n",
       "    <tr>\n",
       "      <th>4</th>\n",
       "      <td>158104</td>\n",
       "      <td>64297</td>\n",
       "      <td>37487</td>\n",
       "      <td>22883</td>\n",
       "      <td>28</td>\n",
       "      <td>51</td>\n",
       "      <td>346517.333333</td>\n",
       "    </tr>\n",
       "  </tbody>\n",
       "</table>\n",
       "</div>"
      ],
      "text/plain": [
       "   dev_cost  pr_cost  administrative_cost  other_cost  med_temp  med_age  \\\n",
       "0    158741    39227                34747       19922        11       66   \n",
       "1    159529    74643                30335       29181       -25       18   \n",
       "2    191911    26127                12181       28916         4       37   \n",
       "3    176195    27096                25572       22089        14       58   \n",
       "4    158104    64297                37487       22883        28       51   \n",
       "\n",
       "           price  \n",
       "0  310286.666667  \n",
       "1  352676.000000  \n",
       "2  306958.666667  \n",
       "3  305150.666667  \n",
       "4  346517.333333  "
      ]
     },
     "execution_count": 16,
     "metadata": {},
     "output_type": "execute_result"
    }
   ],
   "source": [
    "data.head()"
   ]
  },
  {
   "cell_type": "markdown",
   "metadata": {},
   "source": [
    "# Строим модель линейной регрессии на основе всех переменных"
   ]
  },
  {
   "cell_type": "code",
   "execution_count": 18,
   "metadata": {},
   "outputs": [
    {
     "name": "stdout",
     "output_type": "stream",
     "text": [
      "Weights: [[ 1.33333333e+00  1.33333333e+00  1.33333333e+00  7.78386040e-17\n",
      "  -5.43921230e-14 -2.60465526e-14]]\n",
      "Bias: [-1.16415322e-10]\n",
      "Error: 5.998299457132816e-11\n"
     ]
    }
   ],
   "source": [
    "x = data[['dev_cost','pr_cost','administrative_cost', 'other_cost','med_temp','med_age']]\n",
    "y = data[['price']]\n",
    "\n",
    "reg = LinearRegression().fit(x, y)\n",
    "print('Weights: {}'.format(reg.coef_))\n",
    "print('Bias: {}'.format(reg.intercept_))\n",
    "\n",
    "pred_values = reg.predict(data[['dev_cost','pr_cost','administrative_cost', 'other_cost','med_temp','med_age']])\n",
    "print('Error: {}'.format(mean_absolute_error(pred_values, y)))"
   ]
  },
  {
   "cell_type": "markdown",
   "metadata": {},
   "source": [
    "### Ошибка модели достаточно мала. Теоретически можно принять модель в работу."
   ]
  },
  {
   "cell_type": "markdown",
   "metadata": {},
   "source": [
    "# Пробуем улучшить качество модели, для этого создадим новый признак и обучаем модель на основе этого признака."
   ]
  },
  {
   "cell_type": "code",
   "execution_count": 19,
   "metadata": {},
   "outputs": [],
   "source": [
    "data['total_cost'] = data['dev_cost']+data['pr_cost']+data['administrative_cost']"
   ]
  },
  {
   "cell_type": "code",
   "execution_count": 20,
   "metadata": {},
   "outputs": [
    {
     "data": {
      "text/html": [
       "<div>\n",
       "<style scoped>\n",
       "    .dataframe tbody tr th:only-of-type {\n",
       "        vertical-align: middle;\n",
       "    }\n",
       "\n",
       "    .dataframe tbody tr th {\n",
       "        vertical-align: top;\n",
       "    }\n",
       "\n",
       "    .dataframe thead th {\n",
       "        text-align: right;\n",
       "    }\n",
       "</style>\n",
       "<table border=\"1\" class=\"dataframe\">\n",
       "  <thead>\n",
       "    <tr style=\"text-align: right;\">\n",
       "      <th></th>\n",
       "      <th>dev_cost</th>\n",
       "      <th>pr_cost</th>\n",
       "      <th>administrative_cost</th>\n",
       "      <th>other_cost</th>\n",
       "      <th>med_temp</th>\n",
       "      <th>med_age</th>\n",
       "      <th>price</th>\n",
       "      <th>total_cost</th>\n",
       "    </tr>\n",
       "  </thead>\n",
       "  <tbody>\n",
       "    <tr>\n",
       "      <th>0</th>\n",
       "      <td>158741</td>\n",
       "      <td>39227</td>\n",
       "      <td>34747</td>\n",
       "      <td>19922</td>\n",
       "      <td>11</td>\n",
       "      <td>66</td>\n",
       "      <td>310286.666667</td>\n",
       "      <td>232715</td>\n",
       "    </tr>\n",
       "    <tr>\n",
       "      <th>1</th>\n",
       "      <td>159529</td>\n",
       "      <td>74643</td>\n",
       "      <td>30335</td>\n",
       "      <td>29181</td>\n",
       "      <td>-25</td>\n",
       "      <td>18</td>\n",
       "      <td>352676.000000</td>\n",
       "      <td>264507</td>\n",
       "    </tr>\n",
       "    <tr>\n",
       "      <th>2</th>\n",
       "      <td>191911</td>\n",
       "      <td>26127</td>\n",
       "      <td>12181</td>\n",
       "      <td>28916</td>\n",
       "      <td>4</td>\n",
       "      <td>37</td>\n",
       "      <td>306958.666667</td>\n",
       "      <td>230219</td>\n",
       "    </tr>\n",
       "    <tr>\n",
       "      <th>3</th>\n",
       "      <td>176195</td>\n",
       "      <td>27096</td>\n",
       "      <td>25572</td>\n",
       "      <td>22089</td>\n",
       "      <td>14</td>\n",
       "      <td>58</td>\n",
       "      <td>305150.666667</td>\n",
       "      <td>228863</td>\n",
       "    </tr>\n",
       "    <tr>\n",
       "      <th>4</th>\n",
       "      <td>158104</td>\n",
       "      <td>64297</td>\n",
       "      <td>37487</td>\n",
       "      <td>22883</td>\n",
       "      <td>28</td>\n",
       "      <td>51</td>\n",
       "      <td>346517.333333</td>\n",
       "      <td>259888</td>\n",
       "    </tr>\n",
       "  </tbody>\n",
       "</table>\n",
       "</div>"
      ],
      "text/plain": [
       "   dev_cost  pr_cost  administrative_cost  other_cost  med_temp  med_age  \\\n",
       "0    158741    39227                34747       19922        11       66   \n",
       "1    159529    74643                30335       29181       -25       18   \n",
       "2    191911    26127                12181       28916         4       37   \n",
       "3    176195    27096                25572       22089        14       58   \n",
       "4    158104    64297                37487       22883        28       51   \n",
       "\n",
       "           price  total_cost  \n",
       "0  310286.666667      232715  \n",
       "1  352676.000000      264507  \n",
       "2  306958.666667      230219  \n",
       "3  305150.666667      228863  \n",
       "4  346517.333333      259888  "
      ]
     },
     "execution_count": 20,
     "metadata": {},
     "output_type": "execute_result"
    }
   ],
   "source": [
    "data.head()"
   ]
  },
  {
   "cell_type": "markdown",
   "metadata": {},
   "source": [
    "### Предполагаем , что цена на ПО не зависит от средней температуры и возраста покупателей и затрат на коммандировки."
   ]
  },
  {
   "cell_type": "code",
   "execution_count": 21,
   "metadata": {},
   "outputs": [
    {
     "name": "stdout",
     "output_type": "stream",
     "text": [
      "Weights: [[1.33333333]]\n",
      "Bias: [-1.16415322e-10]\n",
      "Error: 3.338209353387356e-11\n"
     ]
    }
   ],
   "source": [
    "x2 = data[['total_cost']]\n",
    "y2 = data[['price']]\n",
    "\n",
    "reg = LinearRegression().fit(x2, y2)\n",
    "print('Weights: {}'.format(reg.coef_))\n",
    "print('Bias: {}'.format(reg.intercept_))\n",
    "\n",
    "pred_values = reg.predict(data[['total_cost']])\n",
    "print('Error: {}'.format(mean_absolute_error(pred_values, y2)))"
   ]
  },
  {
   "cell_type": "markdown",
   "metadata": {},
   "source": [
    "### ошибку удалось уменьшить с 5.998299457132816e-11 до 3.338209353387356e-11 что говорит о том, что нам удалось улучшить модель."
   ]
  },
  {
   "cell_type": "code",
   "execution_count": null,
   "metadata": {},
   "outputs": [],
   "source": []
  }
 ],
 "metadata": {
  "kernelspec": {
   "display_name": "Python 3",
   "language": "python",
   "name": "python3"
  },
  "language_info": {
   "codemirror_mode": {
    "name": "ipython",
    "version": 3
   },
   "file_extension": ".py",
   "mimetype": "text/x-python",
   "name": "python",
   "nbconvert_exporter": "python",
   "pygments_lexer": "ipython3",
   "version": "3.7.3"
  }
 },
 "nbformat": 4,
 "nbformat_minor": 2
}
