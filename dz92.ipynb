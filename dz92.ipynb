{
 "cells": [
  {
   "cell_type": "markdown",
   "metadata": {},
   "source": [
    "### Задание 1"
   ]
  },
  {
   "cell_type": "code",
   "execution_count": 47,
   "metadata": {},
   "outputs": [],
   "source": [
    "from datetime import datetime\n",
    "from datetime import timedelta\n",
    "import pandas as pd\n",
    "import numpy as np"
   ]
  },
  {
   "cell_type": "code",
   "execution_count": 45,
   "metadata": {},
   "outputs": [
    {
     "name": "stdout",
     "output_type": "stream",
     "text": [
      "enter start date 2019-03-15\n",
      "enter end date 2019-04-01\n"
     ]
    },
    {
     "data": {
      "text/plain": [
       "['2019-03-15',\n",
       " '2019-03-16',\n",
       " '2019-03-17',\n",
       " '2019-03-18',\n",
       " '2019-03-19',\n",
       " '2019-03-20',\n",
       " '2019-03-21',\n",
       " '2019-03-22',\n",
       " '2019-03-23',\n",
       " '2019-03-24',\n",
       " '2019-03-25',\n",
       " '2019-03-26',\n",
       " '2019-03-27',\n",
       " '2019-03-28',\n",
       " '2019-03-29',\n",
       " '2019-03-30',\n",
       " '2019-03-31',\n",
       " '2019-04-01']"
      ]
     },
     "execution_count": 45,
     "metadata": {},
     "output_type": "execute_result"
    }
   ],
   "source": [
    "a = input('enter start date ')\n",
    "b = input('enter end date ')\n",
    "\n",
    "def date_range (a,b):\n",
    "    x =[]\n",
    "    cur_date = datetime.strptime(a,'%Y-%m-%d')\n",
    "    while cur_date <= datetime.strptime(b,'%Y-%m-%d'):\n",
    "        x.append(cur_date.strftime('%Y-%m-%d'))\n",
    "        cur_date += timedelta(days = 1)\n",
    "    return x\n",
    "\n",
    "date_range(a,b)"
   ]
  },
  {
   "cell_type": "markdown",
   "metadata": {},
   "source": [
    "### Задание 2"
   ]
  },
  {
   "cell_type": "code",
   "execution_count": 15,
   "metadata": {},
   "outputs": [
    {
     "name": "stdout",
     "output_type": "stream",
     "text": [
      "enter start date2019-03-15\n",
      "enter end date2019-03-11\n"
     ]
    },
    {
     "data": {
      "text/plain": [
       "[]"
      ]
     },
     "execution_count": 15,
     "metadata": {},
     "output_type": "execute_result"
    }
   ],
   "source": [
    "a = input('enter start date ')\n",
    "b = input('enter end date ')\n",
    "\n",
    "def date_range_mod (a,b):\n",
    "    try:\n",
    "        x = []\n",
    "        cur_date = datetime.strptime(a,'%Y-%m-%d')\n",
    "        while cur_date <= datetime.strptime(b,'%Y-%m-%d'):\n",
    "            x.append(cur_date.strftime('%Y-%m-%d'))\n",
    "            cur_date += timedelta(days = 1)\n",
    "    except:\n",
    "        x = []\n",
    "        \n",
    "    return x\n",
    "\n",
    "date_range_mod(a,b)"
   ]
  },
  {
   "cell_type": "markdown",
   "metadata": {},
   "source": [
    "### Задание 3"
   ]
  },
  {
   "cell_type": "code",
   "execution_count": 26,
   "metadata": {},
   "outputs": [],
   "source": [
    "stream = ['2018-04-02', '2018-02-29', '2018-19-02']"
   ]
  },
  {
   "cell_type": "code",
   "execution_count": 43,
   "metadata": {},
   "outputs": [],
   "source": [
    "def check(a):\n",
    "    for i in a:\n",
    "        try:\n",
    "            datetime.strptime(i,'%Y-%m-%d')\n",
    "            print(True)\n",
    "        except:\n",
    "            print(False)"
   ]
  },
  {
   "cell_type": "code",
   "execution_count": 44,
   "metadata": {},
   "outputs": [
    {
     "name": "stdout",
     "output_type": "stream",
     "text": [
      "True\n",
      "False\n",
      "False\n"
     ]
    }
   ],
   "source": [
    "check(stream)"
   ]
  },
  {
   "cell_type": "markdown",
   "metadata": {},
   "source": [
    "### Задание 4"
   ]
  },
  {
   "cell_type": "code",
   "execution_count": 56,
   "metadata": {},
   "outputs": [],
   "source": [
    "def search(file):\n",
    "    info = {}\n",
    "    n = int(input('enter number of features '))\n",
    "    for line in file:\n",
    "        line = line.strip().split(',')\n",
    "        info[tuple(line[:n])] = line[n]\n",
    "    return info"
   ]
  },
  {
   "cell_type": "code",
   "execution_count": 59,
   "metadata": {},
   "outputs": [
    {
     "name": "stdout",
     "output_type": "stream",
     "text": [
      "enter number of features 3\n"
     ]
    }
   ],
   "source": [
    "with open('C:/Users/Kanris/Desktop/data/9/stats.csv') as f:\n",
    "    g = search(f)\n",
    "        "
   ]
  },
  {
   "cell_type": "code",
   "execution_count": 60,
   "metadata": {},
   "outputs": [
    {
     "data": {
      "text/plain": [
       "'39156'"
      ]
     },
     "execution_count": 60,
     "metadata": {},
     "output_type": "execute_result"
    }
   ],
   "source": [
    "g[('20', '20552', '3')]"
   ]
  }
 ],
 "metadata": {
  "kernelspec": {
   "display_name": "Python 3",
   "language": "python",
   "name": "python3"
  },
  "language_info": {
   "codemirror_mode": {
    "name": "ipython",
    "version": 3
   },
   "file_extension": ".py",
   "mimetype": "text/x-python",
   "name": "python",
   "nbconvert_exporter": "python",
   "pygments_lexer": "ipython3",
   "version": "3.7.3"
  }
 },
 "nbformat": 4,
 "nbformat_minor": 2
}
